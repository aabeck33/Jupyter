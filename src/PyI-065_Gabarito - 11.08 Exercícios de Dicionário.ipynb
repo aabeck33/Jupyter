{
 "cells": [
  {
   "cell_type": "markdown",
   "metadata": {},
   "source": [
    "# Exercícios\n",
    "\n",
    "## 1. Exercício \"menos prático\" para treinar manipulação de dicionário\n",
    "\n",
    "Dessa vez, vamos apenas treinar a manipulação de dicionário. Transforme as listas abaixo em 1 único dicionário no formato:"
   ]
  },
  {
   "cell_type": "raw",
   "metadata": {},
   "source": [
    "dicionario = {\n",
    "    produto: (vendas2019, vendas2020),\n",
    "    produto2: (vendas2019, vendas2020),\n",
    "    produto3: (vendas2019, vendas2020),\n",
    "    ...\n",
    "}"
   ]
  },
  {
   "cell_type": "markdown",
   "metadata": {},
   "source": [
    "- Apesar de parecer \"menos prático\" esse é um procedimento que precisamos nos acostumar a fazer, visto que algumas funções (tema dos próximos módulos) precisam de dicionários para funcionar e saber transformar listas em dicionários (e vice-versa) é uma habilidade muito útil\n",
    "\n",
    "Obs: Lembre do zip para juntar listas.<br>\n",
    "Obs2: Repare que cada item das vendas é na verdade uma lista. Então é provável que você precise fazer esse código em 2 etapas"
   ]
  },
  {
   "cell_type": "code",
   "execution_count": 38,
   "metadata": {},
   "outputs": [
    {
     "name": "stdout",
     "output_type": "stream",
     "text": [
      "[(558147, 951642), (712350, 244295), (573823, 26964), (405252, 787604), (718654, 867660), (531580, 78830), (973139, 710331), (892292, 646016), (422760, 694913), (154753, 539704), (887061, 324831), (438508, 667179), (237467, 295633), (489705, 725316), (328311, 644622), (591120, 994303)]\n",
      "{'iphone': (558147, 951642), 'galaxy': (712350, 244295), 'ipad': (573823, 26964), 'tv': (405252, 787604), 'máquina de café': (718654, 867660), 'kindle': (531580, 78830), 'geladeira': (973139, 710331), 'adega': (892292, 646016), 'notebook dell': (422760, 694913), 'notebook hp': (154753, 539704), 'notebook asus': (887061, 324831), 'microsoft surface': (438508, 667179), 'webcam': (237467, 295633), 'caixa de som': (489705, 725316), 'microfone': (328311, 644622), 'câmera canon': (591120, 994303)}\n"
     ]
    }
   ],
   "source": [
    "produtos = ['iphone', 'galaxy', 'ipad', 'tv', 'máquina de café', 'kindle', 'geladeira', 'adega', 'notebook dell', 'notebook hp', 'notebook asus', 'microsoft surface', 'webcam', 'caixa de som', 'microfone', 'câmera canon']\n",
    "vendas2019 = [558147,712350,573823,405252,718654,531580,973139,892292,422760,154753,887061,438508,237467,489705,328311,591120]\n",
    "vendas2020 = [951642,244295,26964,787604,867660,78830,710331,646016,694913,539704,324831,667179,295633,725316,644622,994303]\n",
    "\n",
    "#seu código aqui\n",
    "vendas = list(zip(vendas2019, vendas2020))\n",
    "print(vendas)\n",
    "vendas_produtos = dict(zip(produtos, vendas))\n",
    "print(vendas_produtos)"
   ]
  },
  {
   "cell_type": "code",
   "execution_count": 11,
   "metadata": {},
   "outputs": [
    {
     "name": "stdout",
     "output_type": "stream",
     "text": [
      "{'iphone': (558147, 951642), 'galaxy': (712350, 244295), 'ipad': (573823, 26964), 'tv': (405252, 787604), 'máquina de café': (718654, 867660), 'kindle': (531580, 78830), 'geladeira': (973139, 710331), 'adega': (892292, 646016), 'notebook dell': (422760, 694913), 'notebook hp': (154753, 539704), 'notebook asus': (887061, 324831), 'microsoft surface': (438508, 667179), 'webcam': (237467, 295633), 'caixa de som': (489705, 725316), 'microfone': (328311, 644622), 'câmera canon': (591120, 994303)}\n"
     ]
    }
   ],
   "source": [
    "produtos = ['iphone', 'galaxy', 'ipad', 'tv', 'máquina de café', 'kindle', 'geladeira', 'adega', 'notebook dell', 'notebook hp', 'notebook asus', 'microsoft surface', 'webcam', 'caixa de som', 'microfone', 'câmera canon']\n",
    "vendas2019 = [558147,712350,573823,405252,718654,531580,973139,892292,422760,154753,887061,438508,237467,489705,328311,591120]\n",
    "vendas2020 = [951642,244295,26964,787604,867660,78830,710331,646016,694913,539704,324831,667179,295633,725316,644622,994303]\n",
    "vendas2021 = [558147,712350,573823,405252,718654,531580,973139,892292,422760,154753,887061,438508,237467,489705,328311,591120]\n",
    "\n",
    "#seu código aqui\n",
    "\n",
    "#list(map(list, zip(a, b)))\n",
    "\n",
    "vendas = list(zip(vendas2019, vendas2020, vendas2021))\n",
    "vendas_produtos = dict(zip(produtos, vendas))\n",
    "print(vendas_produtos)\n"
   ]
  },
  {
   "cell_type": "code",
   "execution_count": 39,
   "metadata": {},
   "outputs": [
    {
     "name": "stdout",
     "output_type": "stream",
     "text": [
      "[[558147, 951642, 558147], [712350, 244295, 712350], [573823, 26964, 573823], [405252, 787604, 405252], [718654, 867660, 718654], [531580, 78830, 531580], [973139, 710331, 973139], [892292, 646016, 892292], [422760, 694913, 422760], [154753, 539704, 154753], [887061, 324831, 887061], [438508, 667179, 438508], [237467, 295633, 237467], [489705, 725316, 489705], [328311, 644622, 328311], [591120, 994303, 591120]]\n",
      "{'iphone': [558147, 951642, 558147], 'galaxy': [712350, 244295, 712350], 'ipad': [573823, 26964, 573823], 'tv': [405252, 787604, 405252], 'máquina de café': [718654, 867660, 718654], 'kindle': [531580, 78830, 531580], 'geladeira': [973139, 710331, 973139], 'adega': [892292, 646016, 892292], 'notebook dell': [422760, 694913, 422760], 'notebook hp': [154753, 539704, 154753], 'notebook asus': [887061, 324831, 887061], 'microsoft surface': [438508, 667179, 438508], 'webcam': [237467, 295633, 237467], 'caixa de som': [489705, 725316, 489705], 'microfone': [328311, 644622, 328311], 'câmera canon': [591120, 994303, 591120]}\n"
     ]
    }
   ],
   "source": [
    "vendas2021 = [558147,712350,573823,405252,718654,531580,973139,892292,422760,154753,887061,438508,237467,489705,328311,591120]\n",
    "vendas_anos_anteriores = list(vendas_produtos.values())\n",
    "chaves = list(vendas_produtos.keys())\n",
    "\n",
    "vendas_anos = list(map(list, vendas_anos_anteriores))\n",
    "for i in range(len(vendas_anos)):\n",
    "    vendas_anos[i].append(vendas2021[i])\n",
    "print(vendas_anos)\n",
    "\n",
    "vendas_produtos = dict(zip(chaves, vendas_anos))\n",
    "print(vendas_produtos)"
   ]
  },
  {
   "cell_type": "code",
   "execution_count": 40,
   "metadata": {},
   "outputs": [
    {
     "name": "stdout",
     "output_type": "stream",
     "text": [
      "Using zip\n",
      "3.26299786567688\n",
      "Using itemgetter\n",
      "0.07402181625366211\n"
     ]
    }
   ],
   "source": [
    "import time\n",
    "from operator import itemgetter\n",
    "\n",
    "list1 = list()\n",
    "list2 = list()\n",
    "origlist = list()\n",
    "for i in range (1,5000000):\n",
    "        t = (i, 2*i)\n",
    "        origlist.append(t)\n",
    "\n",
    "print(\"Using zip\")\n",
    "starttime = time.time()\n",
    "list1, list2 = map(list, zip(*origlist))\n",
    "elapsed = time.time()-starttime\n",
    "print(elapsed)\n",
    "\n",
    "print(\"Using itemgetter\")\n",
    "starttime = time.time()\n",
    "list1 = map(itemgetter(0),origlist)\n",
    "list2 = map(itemgetter(1),origlist)\n",
    "elapsed = time.time()-starttime\n",
    "print(elapsed)"
   ]
  },
  {
   "cell_type": "code",
   "execution_count": null,
   "metadata": {},
   "outputs": [],
   "source": []
  }
 ],
 "metadata": {
  "kernelspec": {
   "display_name": "Python 3 (ipykernel)",
   "language": "python",
   "name": "python3"
  },
  "language_info": {
   "codemirror_mode": {
    "name": "ipython",
    "version": 3
   },
   "file_extension": ".py",
   "mimetype": "text/x-python",
   "name": "python",
   "nbconvert_exporter": "python",
   "pygments_lexer": "ipython3",
   "version": "3.10.6"
  }
 },
 "nbformat": 4,
 "nbformat_minor": 4
}
