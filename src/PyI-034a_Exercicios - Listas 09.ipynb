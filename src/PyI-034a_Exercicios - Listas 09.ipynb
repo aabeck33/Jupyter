{
 "cells": [
  {
   "cell_type": "code",
   "execution_count": 12,
   "id": "7d2f5347",
   "metadata": {},
   "outputs": [
    {
     "name": "stdout",
     "output_type": "stream",
     "text": [
      "[343, 34345, 3425567, 8678, 2323, 56646566, 867944444]\n",
      "[867944444, 56646566, 3425567, 34345, 8678, 2323, 343]\n",
      "[56646566, 3425567, 34345, 8678, 2323, 343]\n",
      "[867944444]\n"
     ]
    }
   ],
   "source": [
    "lista = [343,34345,3425567,8678,2323,56646566,867944444]\n",
    "print(lista)\n",
    "lista.sort(reverse=True)\n",
    "print(lista)\n",
    "top3 = []\n",
    "top3.append(lista.pop(0))\n",
    "print(lista)\n",
    "print(top3)"
   ]
  },
  {
   "cell_type": "code",
   "execution_count": 13,
   "id": "18f9d062",
   "metadata": {},
   "outputs": [
    {
     "name": "stdout",
     "output_type": "stream",
     "text": [
      "[3425567, 34345, 8678, 2323, 343]\n",
      "[867944444, 56646566]\n"
     ]
    }
   ],
   "source": [
    "top3.append(lista.pop(0))\n",
    "print(lista)\n",
    "print(top3)"
   ]
  },
  {
   "cell_type": "code",
   "execution_count": 14,
   "id": "410647d9",
   "metadata": {},
   "outputs": [
    {
     "name": "stdout",
     "output_type": "stream",
     "text": [
      "[34345, 8678, 2323, 343]\n",
      "[867944444, 56646566, 3425567]\n"
     ]
    }
   ],
   "source": [
    "top3.append(lista.pop(0))\n",
    "print(lista)\n",
    "print(top3)"
   ]
  },
  {
   "cell_type": "code",
   "execution_count": 16,
   "id": "38b24b40",
   "metadata": {},
   "outputs": [
    {
     "name": "stdout",
     "output_type": "stream",
     "text": [
      "[34345, 8678, 2323, 343]\n",
      "0x12d03411400\n",
      "[34345, 8678, 2323, 343]\n",
      "0x12d03411400\n"
     ]
    }
   ],
   "source": [
    "lista2 = lista\n",
    "print(lista)\n",
    "print(hex(id(lista)))\n",
    "print(lista2)\n",
    "print(hex(id(lista2)))"
   ]
  },
  {
   "cell_type": "code",
   "execution_count": 17,
   "id": "3a8d7b03",
   "metadata": {},
   "outputs": [
    {
     "name": "stdout",
     "output_type": "stream",
     "text": [
      "[34345, 8678, 2323, 343]\n",
      "0x12d03411400\n",
      "[34345, 8678, 2323, 343]\n",
      "0x12d03410240\n"
     ]
    }
   ],
   "source": [
    "lista2 = lista[:]\n",
    "print(lista)\n",
    "print(hex(id(lista)))\n",
    "print(lista2)\n",
    "print(hex(id(lista2)))"
   ]
  },
  {
   "cell_type": "code",
   "execution_count": null,
   "id": "512871a0",
   "metadata": {},
   "outputs": [],
   "source": []
  }
 ],
 "metadata": {
  "kernelspec": {
   "display_name": "Python 3 (ipykernel)",
   "language": "python",
   "name": "python3"
  },
  "language_info": {
   "codemirror_mode": {
    "name": "ipython",
    "version": 3
   },
   "file_extension": ".py",
   "mimetype": "text/x-python",
   "name": "python",
   "nbconvert_exporter": "python",
   "pygments_lexer": "ipython3",
   "version": "3.10.6"
  }
 },
 "nbformat": 4,
 "nbformat_minor": 5
}
