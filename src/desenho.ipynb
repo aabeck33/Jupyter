{
 "cells": [
  {
   "cell_type": "code",
   "execution_count": 7,
   "id": "c3a74d01",
   "metadata": {},
   "outputs": [
    {
     "data": {
      "application/vnd.jupyter.widget-view+json": {
       "model_id": "521cd323336445e798f31a536e0b2d99",
       "version_major": 2,
       "version_minor": 0
      },
      "text/plain": [
       "Turtle()"
      ]
     },
     "metadata": {},
     "output_type": "display_data"
    }
   ],
   "source": [
    "#import turtle\n",
    "from mobilechelonian import Turtle\n",
    "\n",
    "#pen = turtle.Turtle()\n",
    "pen = Turtle()"
   ]
  },
  {
   "cell_type": "code",
   "execution_count": null,
   "id": "c7449fbd",
   "metadata": {},
   "outputs": [],
   "source": [
    "# Quadrado\n",
    "\n",
    "pen.forward(100)\n",
    "pen.left(90)\n",
    "pen.forward(100)\n",
    "pen.left(90)\n",
    "pen.forward(100)\n",
    "pen.left(90)\n",
    "pen.forward(100)"
   ]
  },
  {
   "cell_type": "code",
   "execution_count": null,
   "id": "df991fb4",
   "metadata": {},
   "outputs": [],
   "source": [
    "turtle.speed(fastestppen.color(reden.circle(100))"
   ]
  },
  {
   "cell_type": "code",
   "execution_count": null,
   "id": "d44dd963",
   "metadata": {},
   "outputs": [],
   "source": [
    "turtle.speed('fastestor i in range(0, 360):\n",
    "    pen.forward(1)\n",
    "    pen.right(1)"
   ]
  },
  {
   "cell_type": "code",
   "execution_count": null,
   "id": "51bef971",
   "metadata": {},
   "outputs": [],
   "source": [
    "turtle.speed('fastestor i in range(0, 180):\n",
    "    pen.circle(40)\n",
    "    pen.right(5)"
   ]
  },
  {
   "cell_type": "code",
   "execution_count": null,
   "id": "23ff0b0a",
   "metadata": {},
   "outputs": [],
   "source": [
    "# Círculo\n",
    "\n",
    "pen.circle(50)"
   ]
  },
  {
   "cell_type": "code",
   "execution_count": null,
   "id": "0988882d",
   "metadata": {},
   "outputs": [],
   "source": [
    "pen.forward(100)     # anda 100 posições para a frente\n",
    "pen.right(45)        # gira o ponteiro em 45 graus para a direita\n",
    "pen.forward(100)     # anda mais 100 posições para a frente"
   ]
  },
  {
   "cell_type": "code",
   "execution_count": null,
   "id": "8e1c711e",
   "metadata": {},
   "outputs": [],
   "source": [
    "ninja = Turtle()\n",
    "\n",
    "ninja.speed(10)\n",
    "\n",
    "for i in range(180):\n",
    "    ninja.forward(100)\n",
    "    ninja.right(30)\n",
    "    ninja.forward(20)\n",
    "    ninja.left(60)\n",
    "    ninja.forward(50)\n",
    "    ninja.right(30)\n",
    "    \n",
    "    ninja.penup()\n",
    "    ninja.setposition(0, 0)\n",
    "    ninja.pendown()\n",
    "    \n",
    "    ninja.right(2)"
   ]
  },
  {
   "cell_type": "code",
   "execution_count": 8,
   "id": "4b8af7c8",
   "metadata": {},
   "outputs": [
    {
     "data": {
      "application/vnd.jupyter.widget-view+json": {
       "model_id": "79dea10eba27418bb65c7ef18953836b",
       "version_major": 2,
       "version_minor": 0
      },
      "text/plain": [
       "Turtle()"
      ]
     },
     "metadata": {},
     "output_type": "display_data"
    }
   ],
   "source": [
    "painter = Turtle()\n",
    "\n",
    "painter.pencolor(\"blue\")\n",
    "\n",
    "for i in range(10):\n",
    "    painter.forward(50)\n",
    "    painter.left(123) # Let's go counterclockwise this time \n",
    "    \n",
    "painter.pencolor(\"red\")\n",
    "for i in range(10):\n",
    "    painter.forward(100)\n",
    "    painter.left(123)"
   ]
  },
  {
   "cell_type": "code",
   "execution_count": null,
   "id": "b610d3e6",
   "metadata": {},
   "outputs": [],
   "source": [
    "seurat = Turtle()\n",
    "\n",
    "dot_distance = 25\n",
    "width = 5\n",
    "height = 7\n",
    "\n",
    "seurat.penup()\n",
    "\n",
    "for y in range(height):\n",
    "    for i in range(width):\n",
    "        #seurat.dot()\n",
    "        seurat.forward(dot_distance)\n",
    "    seurat.backward(dot_distance * width)\n",
    "    seurat.right(90)\n",
    "    seurat.forward(dot_distance)\n",
    "    seurat.left(90)"
   ]
  },
  {
   "cell_type": "code",
   "execution_count": null,
   "id": "a6bb6e57",
   "metadata": {},
   "outputs": [],
   "source": []
  }
 ],
 "metadata": {
  "kernelspec": {
   "display_name": "Python 3 (ipykernel)",
   "language": "python",
   "name": "python3"
  },
  "language_info": {
   "codemirror_mode": {
    "name": "ipython",
    "version": 3
   },
   "file_extension": ".py",
   "mimetype": "text/x-python",
   "name": "python",
   "nbconvert_exporter": "python",
   "pygments_lexer": "ipython3",
   "version": "3.10.6"
  }
 },
 "nbformat": 4,
 "nbformat_minor": 5
}
