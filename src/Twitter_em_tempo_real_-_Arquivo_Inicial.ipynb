{
 "cells": [
  {
   "cell_type": "markdown",
   "id": "00cbd0a0",
   "metadata": {},
   "source": [
    "# Importando dados do twitter em tempo real\n",
    "\n",
    "- Vamos usar a biblioteca tweepy: <br>\n",
    "    https://docs.tweepy.org/en/stable/\n"
   ]
  },
  {
   "cell_type": "code",
   "execution_count": 4,
   "id": "1c78cd84",
   "metadata": {},
   "outputs": [],
   "source": [
    "import tweepy as tw\n",
    "import pandas as pd"
   ]
  },
  {
   "cell_type": "code",
   "execution_count": 5,
   "id": "69adfcae",
   "metadata": {},
   "outputs": [],
   "source": [
    "bearer_token = ''\n",
    "consumer_key = ''\n",
    "consumer_secret = ''\n",
    "access_token = ''\n",
    "access_token_secret = ''"
   ]
  }
 ],
 "metadata": {
  "kernelspec": {
   "display_name": "Python 3 (ipykernel)",
   "language": "python",
   "name": "python3"
  },
  "language_info": {
   "codemirror_mode": {
    "name": "ipython",
    "version": 3
   },
   "file_extension": ".py",
   "mimetype": "text/x-python",
   "name": "python",
   "nbconvert_exporter": "python",
   "pygments_lexer": "ipython3",
   "version": "3.9.7"
  }
 },
 "nbformat": 4,
 "nbformat_minor": 5
}
