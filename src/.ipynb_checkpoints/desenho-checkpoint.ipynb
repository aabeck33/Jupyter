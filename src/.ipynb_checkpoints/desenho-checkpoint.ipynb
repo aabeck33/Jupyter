{
 "cells": [
  {
   "cell_type": "code",
   "execution_count": 1,
   "id": "e8132678",
   "metadata": {},
   "outputs": [
    {
     "data": {
      "application/vnd.jupyter.widget-view+json": {
       "model_id": "47982dd31cbe4f38a28352177c3679bb",
       "version_major": 2,
       "version_minor": 0
      },
      "text/plain": [
       "Turtle()"
      ]
     },
     "metadata": {},
     "output_type": "display_data"
    }
   ],
   "source": [
    "#import turtle\n",
    "from mobilechelonian import Turtle\n",
    "\n",
    "#pen = turtle.Turtle()\n",
    "pen = Turtle()"
   ]
  },
  {
   "cell_type": "code",
   "execution_count": null,
   "id": "d6a20452",
   "metadata": {},
   "outputs": [],
   "source": [
    "# Quadrado\n",
    "\n",
    "pen.forward(100)\n",
    "pen.left(90)\n",
    "pen.forward(100)\n",
    "pen.left(90)\n",
    "pen.forward(100)\n",
    "pen.left(90)\n",
    "pen.forward(100)"
   ]
  },
  {
   "cell_type": "code",
   "execution_count": null,
   "id": "6d1accd9",
   "metadata": {},
   "outputs": [],
   "source": [
    "turtle.speed(fastestppen.color(reden.circle(100))"
   ]
  },
  {
   "cell_type": "code",
   "execution_count": null,
   "id": "fe930f45",
   "metadata": {},
   "outputs": [],
   "source": [
    "turtle.speed('fastestor i in range(0, 360):\n",
    "    pen.forward(1)\n",
    "    pen.right(1)"
   ]
  },
  {
   "cell_type": "code",
   "execution_count": null,
   "id": "75c4e50d",
   "metadata": {},
   "outputs": [],
   "source": [
    "turtle.speed('fastestor i in range(0, 180):\n",
    "    pen.circle(40)\n",
    "    pen.right(5)"
   ]
  },
  {
   "cell_type": "code",
   "execution_count": null,
   "id": "320989f4",
   "metadata": {},
   "outputs": [],
   "source": [
    "# Círculo\n",
    "\n",
    "pen.circle(50)"
   ]
  },
  {
   "cell_type": "code",
   "execution_count": null,
   "id": "ad035495",
   "metadata": {},
   "outputs": [],
   "source": [
    "pen.forward(100)     # anda 100 posições para a frente\n",
    "pen.right(45)        # gira o ponteiro em 45 graus para a direita\n",
    "pen.forward(100)     # anda mais 100 posições para a frente"
   ]
  },
  {
   "cell_type": "code",
   "execution_count": 2,
   "id": "eacc06ad",
   "metadata": {},
   "outputs": [
    {
     "data": {
      "application/vnd.jupyter.widget-view+json": {
       "model_id": "dcc9d2d50c214d64895909d94cb2bb99",
       "version_major": 2,
       "version_minor": 0
      },
      "text/plain": [
       "Turtle()"
      ]
     },
     "metadata": {},
     "output_type": "display_data"
    }
   ],
   "source": [
    "ninja = Turtle()\n",
    "\n",
    "ninja.speed(10)\n",
    "\n",
    "for i in range(180):\n",
    "    ninja.forward(100)\n",
    "    ninja.right(30)\n",
    "    ninja.forward(20)\n",
    "    ninja.left(60)\n",
    "    ninja.forward(50)\n",
    "    ninja.right(30)\n",
    "    \n",
    "    ninja.penup()\n",
    "    ninja.setposition(0, 0)\n",
    "    ninja.pendown()\n",
    "    \n",
    "    ninja.right(2)"
   ]
  },
  {
   "cell_type": "code",
   "execution_count": 4,
   "id": "a742cb48",
   "metadata": {},
   "outputs": [
    {
     "data": {
      "application/vnd.jupyter.widget-view+json": {
       "model_id": "d629bc615cc9465ab731f321c9c158fb",
       "version_major": 2,
       "version_minor": 0
      },
      "text/plain": [
       "Turtle()"
      ]
     },
     "metadata": {},
     "output_type": "display_data"
    }
   ],
   "source": [
    "painter = Turtle()\n",
    "\n",
    "painter.pencolor(\"blue\")\n",
    "\n",
    "for i in range(50):\n",
    "    painter.forward(50)\n",
    "    painter.left(123) # Let's go counterclockwise this time \n",
    "    \n",
    "painter.pencolor(\"red\")\n",
    "for i in range(50):\n",
    "    painter.forward(100)\n",
    "    painter.left(123)"
   ]
  },
  {
   "cell_type": "code",
   "execution_count": 6,
   "id": "108774a4",
   "metadata": {},
   "outputs": [
    {
     "data": {
      "application/vnd.jupyter.widget-view+json": {
       "model_id": "8f2c64711563426490e0f0a7f467d239",
       "version_major": 2,
       "version_minor": 0
      },
      "text/plain": [
       "Turtle()"
      ]
     },
     "metadata": {},
     "output_type": "display_data"
    }
   ],
   "source": [
    "seurat = Turtle()\n",
    "\n",
    "dot_distance = 25\n",
    "width = 5\n",
    "height = 7\n",
    "\n",
    "seurat.penup()\n",
    "\n",
    "for y in range(height):\n",
    "    for i in range(width):\n",
    "        #seurat.dot()\n",
    "        seurat.forward(dot_distance)\n",
    "    seurat.backward(dot_distance * width)\n",
    "    seurat.right(90)\n",
    "    seurat.forward(dot_distance)\n",
    "    seurat.left(90)"
   ]
  },
  {
   "cell_type": "code",
   "execution_count": null,
   "id": "3c533646",
   "metadata": {},
   "outputs": [],
   "source": []
  }
 ],
 "metadata": {
  "kernelspec": {
   "display_name": "Python 3 (ipykernel)",
   "language": "python",
   "name": "python3"
  },
  "language_info": {
   "codemirror_mode": {
    "name": "ipython",
    "version": 3
   },
   "file_extension": ".py",
   "mimetype": "text/x-python",
   "name": "python",
   "nbconvert_exporter": "python",
   "pygments_lexer": "ipython3",
   "version": "3.10.6"
  }
 },
 "nbformat": 4,
 "nbformat_minor": 5
}
