{
 "cells": [
  {
   "cell_type": "code",
   "execution_count": 1,
   "id": "6a929ab1",
   "metadata": {},
   "outputs": [
    {
     "name": "stdout",
     "output_type": "stream",
     "text": [
      "<Response [200]>\n",
      "{'total_vendas': 3026.1000000000004}\n"
     ]
    }
   ],
   "source": [
    "import requests\n",
    "\n",
    "link = 'https://helloapi.aabeck33.repl.co/pegarvendas'\n",
    "\n",
    "requisicao = requests.get(link)\n",
    "\n",
    "print(requisicao)\n",
    "print(requisicao.json())"
   ]
  },
  {
   "cell_type": "code",
   "execution_count": null,
   "id": "9137da68",
   "metadata": {},
   "outputs": [],
   "source": []
  }
 ],
 "metadata": {
  "kernelspec": {
   "display_name": "Python 3 (ipykernel)",
   "language": "python",
   "name": "python3"
  },
  "language_info": {
   "codemirror_mode": {
    "name": "ipython",
    "version": 3
   },
   "file_extension": ".py",
   "mimetype": "text/x-python",
   "name": "python",
   "nbconvert_exporter": "python",
   "pygments_lexer": "ipython3",
   "version": "3.10.6"
  }
 },
 "nbformat": 4,
 "nbformat_minor": 5
}
